{
 "cells": [
  {
   "cell_type": "code",
   "execution_count": 47,
   "metadata": {},
   "outputs": [],
   "source": [
    "import numpy as np\n",
    "import pandas as pd\n",
    "import matplotlib.pyplot as plt\n",
    "###%matplotlib inline"
   ]
  },
  {
   "cell_type": "code",
   "execution_count": 48,
   "metadata": {},
   "outputs": [],
   "source": [
    "from sklearn.datasets import make_blobs"
   ]
  },
  {
   "cell_type": "code",
   "execution_count": 61,
   "metadata": {},
   "outputs": [],
   "source": [
    "df=pd.read_csv('C:\\\\Users\\\\kumar\\\\Desktop\\\\cars_sample.csv')"
   ]
  },
  {
   "cell_type": "raw",
   "metadata": {},
   "source": [
    "dff=pd.read_csv('C:\\\\Users\\\\kumar\\\\Desktop\\\\cars_sample.csv')"
   ]
  },
  {
   "cell_type": "code",
   "execution_count": 62,
   "metadata": {},
   "outputs": [
    {
     "data": {
      "text/html": [
       "<div>\n",
       "<style scoped>\n",
       "    .dataframe tbody tr th:only-of-type {\n",
       "        vertical-align: middle;\n",
       "    }\n",
       "\n",
       "    .dataframe tbody tr th {\n",
       "        vertical-align: top;\n",
       "    }\n",
       "\n",
       "    .dataframe thead th {\n",
       "        text-align: right;\n",
       "    }\n",
       "</style>\n",
       "<table border=\"1\" class=\"dataframe\">\n",
       "  <thead>\n",
       "    <tr style=\"text-align: right;\">\n",
       "      <th></th>\n",
       "      <th>brand</th>\n",
       "      <th>model</th>\n",
       "      <th>price</th>\n",
       "      <th>kmpl</th>\n",
       "      <th>bhp</th>\n",
       "      <th>type</th>\n",
       "    </tr>\n",
       "  </thead>\n",
       "  <tbody>\n",
       "    <tr>\n",
       "      <th>0</th>\n",
       "      <td>Tata</td>\n",
       "      <td>Nano</td>\n",
       "      <td>199</td>\n",
       "      <td>23.9</td>\n",
       "      <td>38</td>\n",
       "      <td>Hatchback</td>\n",
       "    </tr>\n",
       "    <tr>\n",
       "      <th>1</th>\n",
       "      <td>Suzuki</td>\n",
       "      <td>Alto 800</td>\n",
       "      <td>248</td>\n",
       "      <td>22.7</td>\n",
       "      <td>47</td>\n",
       "      <td>Hatchback</td>\n",
       "    </tr>\n",
       "    <tr>\n",
       "      <th>2</th>\n",
       "      <td>Hyundai</td>\n",
       "      <td>EON</td>\n",
       "      <td>302</td>\n",
       "      <td>21.1</td>\n",
       "      <td>55</td>\n",
       "      <td>Hatchback</td>\n",
       "    </tr>\n",
       "    <tr>\n",
       "      <th>3</th>\n",
       "      <td>Suzuki</td>\n",
       "      <td>Wagon-R</td>\n",
       "      <td>363</td>\n",
       "      <td>20.5</td>\n",
       "      <td>67</td>\n",
       "      <td>Hatchback</td>\n",
       "    </tr>\n",
       "    <tr>\n",
       "      <th>4</th>\n",
       "      <td>Hyundai</td>\n",
       "      <td>i10</td>\n",
       "      <td>418</td>\n",
       "      <td>19.8</td>\n",
       "      <td>68</td>\n",
       "      <td>Hatchback</td>\n",
       "    </tr>\n",
       "    <tr>\n",
       "      <th>5</th>\n",
       "      <td>Suzuki</td>\n",
       "      <td>Swift</td>\n",
       "      <td>462</td>\n",
       "      <td>20.4</td>\n",
       "      <td>83</td>\n",
       "      <td>Hatchback</td>\n",
       "    </tr>\n",
       "    <tr>\n",
       "      <th>6</th>\n",
       "      <td>Hyundai</td>\n",
       "      <td>i20</td>\n",
       "      <td>523</td>\n",
       "      <td>18.6</td>\n",
       "      <td>82</td>\n",
       "      <td>Hatchback</td>\n",
       "    </tr>\n",
       "  </tbody>\n",
       "</table>\n",
       "</div>"
      ],
      "text/plain": [
       "     brand     model  price  kmpl  bhp       type\n",
       "0     Tata      Nano    199  23.9   38  Hatchback\n",
       "1   Suzuki  Alto 800    248  22.7   47  Hatchback\n",
       "2  Hyundai       EON    302  21.1   55  Hatchback\n",
       "3   Suzuki   Wagon-R    363  20.5   67  Hatchback\n",
       "4  Hyundai       i10    418  19.8   68  Hatchback\n",
       "5   Suzuki     Swift    462  20.4   83  Hatchback\n",
       "6  Hyundai       i20    523  18.6   82  Hatchback"
      ]
     },
     "execution_count": 62,
     "metadata": {},
     "output_type": "execute_result"
    }
   ],
   "source": [
    "df.head(10)"
   ]
  },
  {
   "cell_type": "code",
   "execution_count": 77,
   "metadata": {},
   "outputs": [
    {
     "ename": "SyntaxError",
     "evalue": "invalid syntax (<ipython-input-77-d12ccc4c3a54>, line 1)",
     "output_type": "error",
     "traceback": [
      "\u001b[1;36m  File \u001b[1;32m\"<ipython-input-77-d12ccc4c3a54>\"\u001b[1;36m, line \u001b[1;32m1\u001b[0m\n\u001b[1;33m    from pd.datasets\u001b[0m\n\u001b[1;37m                    ^\u001b[0m\n\u001b[1;31mSyntaxError\u001b[0m\u001b[1;31m:\u001b[0m invalid syntax\n"
     ]
    }
   ],
   "source": [
    "from pd.datasets"
   ]
  },
  {
   "cell_type": "code",
   "execution_count": 76,
   "metadata": {},
   "outputs": [
    {
     "data": {
      "text/html": [
       "<div>\n",
       "<style scoped>\n",
       "    .dataframe tbody tr th:only-of-type {\n",
       "        vertical-align: middle;\n",
       "    }\n",
       "\n",
       "    .dataframe tbody tr th {\n",
       "        vertical-align: top;\n",
       "    }\n",
       "\n",
       "    .dataframe thead th {\n",
       "        text-align: right;\n",
       "    }\n",
       "</style>\n",
       "<table border=\"1\" class=\"dataframe\">\n",
       "  <thead>\n",
       "    <tr style=\"text-align: right;\">\n",
       "      <th></th>\n",
       "      <th>brand</th>\n",
       "      <th>model</th>\n",
       "      <th>price</th>\n",
       "      <th>kmpl</th>\n",
       "      <th>bhp</th>\n",
       "      <th>type</th>\n",
       "    </tr>\n",
       "  </thead>\n",
       "  <tbody>\n",
       "    <tr>\n",
       "      <th>0</th>\n",
       "      <td>Tata</td>\n",
       "      <td>Nano</td>\n",
       "      <td>199</td>\n",
       "      <td>23.9</td>\n",
       "      <td>38</td>\n",
       "      <td>Hatchback</td>\n",
       "    </tr>\n",
       "    <tr>\n",
       "      <th>1</th>\n",
       "      <td>Suzuki</td>\n",
       "      <td>Alto 800</td>\n",
       "      <td>248</td>\n",
       "      <td>22.7</td>\n",
       "      <td>47</td>\n",
       "      <td>Hatchback</td>\n",
       "    </tr>\n",
       "    <tr>\n",
       "      <th>2</th>\n",
       "      <td>Hyundai</td>\n",
       "      <td>EON</td>\n",
       "      <td>302</td>\n",
       "      <td>21.1</td>\n",
       "      <td>55</td>\n",
       "      <td>Hatchback</td>\n",
       "    </tr>\n",
       "    <tr>\n",
       "      <th>3</th>\n",
       "      <td>Suzuki</td>\n",
       "      <td>Wagon-R</td>\n",
       "      <td>363</td>\n",
       "      <td>20.5</td>\n",
       "      <td>67</td>\n",
       "      <td>Hatchback</td>\n",
       "    </tr>\n",
       "    <tr>\n",
       "      <th>4</th>\n",
       "      <td>Hyundai</td>\n",
       "      <td>i10</td>\n",
       "      <td>418</td>\n",
       "      <td>19.8</td>\n",
       "      <td>68</td>\n",
       "      <td>Hatchback</td>\n",
       "    </tr>\n",
       "    <tr>\n",
       "      <th>5</th>\n",
       "      <td>Suzuki</td>\n",
       "      <td>Swift</td>\n",
       "      <td>462</td>\n",
       "      <td>20.4</td>\n",
       "      <td>83</td>\n",
       "      <td>Hatchback</td>\n",
       "    </tr>\n",
       "    <tr>\n",
       "      <th>6</th>\n",
       "      <td>Hyundai</td>\n",
       "      <td>i20</td>\n",
       "      <td>523</td>\n",
       "      <td>18.6</td>\n",
       "      <td>82</td>\n",
       "      <td>Hatchback</td>\n",
       "    </tr>\n",
       "  </tbody>\n",
       "</table>\n",
       "</div>"
      ],
      "text/plain": [
       "     brand     model  price  kmpl  bhp       type\n",
       "0     Tata      Nano    199  23.9   38  Hatchback\n",
       "1   Suzuki  Alto 800    248  22.7   47  Hatchback\n",
       "2  Hyundai       EON    302  21.1   55  Hatchback\n",
       "3   Suzuki   Wagon-R    363  20.5   67  Hatchback\n",
       "4  Hyundai       i10    418  19.8   68  Hatchback\n",
       "5   Suzuki     Swift    462  20.4   83  Hatchback\n",
       "6  Hyundai       i20    523  18.6   82  Hatchback"
      ]
     },
     "execution_count": 76,
     "metadata": {},
     "output_type": "execute_result"
    }
   ],
   "source": [
    "df"
   ]
  },
  {
   "cell_type": "code",
   "execution_count": 84,
   "metadata": {},
   "outputs": [
    {
     "ename": "TypeError",
     "evalue": "'DataFrame' object is not callable",
     "output_type": "error",
     "traceback": [
      "\u001b[1;31m---------------------------------------------------------------------------\u001b[0m",
      "\u001b[1;31mTypeError\u001b[0m                                 Traceback (most recent call last)",
      "\u001b[1;32m<ipython-input-84-79a2b6ebaf9a>\u001b[0m in \u001b[0;36m<module>\u001b[1;34m\u001b[0m\n\u001b[1;32m----> 1\u001b[1;33m \u001b[0mx\u001b[0m\u001b[1;33m,\u001b[0m\u001b[0my\u001b[0m\u001b[1;33m=\u001b[0m\u001b[0mdf\u001b[0m\u001b[1;33m(\u001b[0m\u001b[0mn_price\u001b[0m\u001b[1;33m=\u001b[0m\u001b[1;36m200\u001b[0m\u001b[1;33m,\u001b[0m \u001b[0mn_bhp\u001b[0m\u001b[1;33m=\u001b[0m\u001b[1;36m2\u001b[0m\u001b[1;33m)\u001b[0m\u001b[1;33m\u001b[0m\u001b[1;33m\u001b[0m\u001b[0m\n\u001b[0m",
      "\u001b[1;31mTypeError\u001b[0m: 'DataFrame' object is not callable"
     ]
    }
   ],
   "source": [
    "x,y=df(n_price=200, n_bhp=2)"
   ]
  },
  {
   "cell_type": "code",
   "execution_count": 85,
   "metadata": {},
   "outputs": [
    {
     "data": {
      "text/plain": [
       "<matplotlib.collections.PathCollection at 0x1c25fd1cf98>"
      ]
     },
     "execution_count": 85,
     "metadata": {},
     "output_type": "execute_result"
    },
    {
     "data": {
      "image/png": "[encoded data removed]",
      "text/plain": [
       "<Figure size 432x288 with 1 Axes>"
      ]
     },
     "metadata": {
      "needs_background": "light"
     },
     "output_type": "display_data"
    }
   ],
   "source": [
    "plt.scatter(x[:,0], x[:,1], s=5, alpha=.5)"
   ]
  },
  {
   "cell_type": "code",
   "execution_count": 37,
   "metadata": {},
   "outputs": [],
   "source": [
    "class MyClass:\n",
    "  x = 5"
   ]
  },
  {
   "cell_type": "code",
   "execution_count": 39,
   "metadata": {},
   "outputs": [
    {
     "data": {
      "text/plain": [
       "__main__.MyClass"
      ]
     },
     "execution_count": 39,
     "metadata": {},
     "output_type": "execute_result"
    }
   ],
   "source": [
    "MyClass"
   ]
  },
  {
   "cell_type": "code",
   "execution_count": 41,
   "metadata": {},
   "outputs": [
    {
     "name": "stdout",
     "output_type": "stream",
     "text": [
      "[[-4.30966728e+00  4.64720131e-01]\n",
      " [ 3.67547163e-01  3.42549161e+00]\n",
      " [ 7.83015344e+00  6.45191895e+00]\n",
      " [-4.61279528e+00 -3.23718160e-01]\n",
      " [ 9.87858973e+00  8.25212405e+00]\n",
      " [-3.83108938e+00  1.84312571e+00]\n",
      " [ 2.24942910e+00  4.31194285e+00]\n",
      " [ 1.89024377e+00  2.86941982e+00]\n",
      " [-4.50348991e+00  3.67682476e-01]\n",
      " [-4.27714282e+00 -3.10635675e-01]\n",
      " [-5.66856329e+00  1.62517906e+00]\n",
      " [ 1.65912133e+00  4.41204316e+00]\n",
      " [ 1.81718201e-01  5.50794891e+00]\n",
      " [ 6.57270976e+00  6.78213995e+00]\n",
      " [ 4.70598104e-01  2.61647914e+00]\n",
      " [ 6.59687292e-01  2.41981542e+00]\n",
      " [-3.11468967e+00  8.57972760e-01]\n",
      " [ 5.91386682e+00  6.76613883e+00]\n",
      " [ 8.27732011e+00  7.03345544e+00]\n",
      " [-6.21229878e+00 -7.44223006e-01]\n",
      " [ 2.02914149e+00  5.01575429e+00]\n",
      " [ 7.94390314e+00  9.02364127e+00]\n",
      " [ 7.93803128e+00  6.96109831e+00]\n",
      " [ 7.94997360e+00  8.71129403e+00]\n",
      " [-2.28165277e-01  3.53653954e+00]\n",
      " [-3.34606132e+00  7.08671007e-01]\n",
      " [-5.20226450e+00  4.87145529e-01]\n",
      " [ 2.12414555e+00  5.28234711e+00]\n",
      " [ 8.18543372e-01  5.93760148e+00]\n",
      " [ 1.99832549e+00  3.06188882e+00]\n",
      " [ 4.85375907e-01  3.43242981e+00]\n",
      " [ 9.38517091e-01  4.43902495e+00]\n",
      " [ 7.94799246e+00  8.70475868e+00]\n",
      " [-1.89977970e+00  3.19111595e+00]\n",
      " [-3.78877994e+00 -2.48326959e-02]\n",
      " [ 2.06410556e+00  5.49669427e+00]\n",
      " [-4.05965548e+00 -9.40831272e-01]\n",
      " [ 4.13072947e-01  2.24848441e+00]\n",
      " [-2.19341554e+00  1.41161044e+00]\n",
      " [ 7.48976134e+00  8.30645936e+00]\n",
      " [-5.40280714e+00  2.76167537e-01]\n",
      " [-4.76912553e+00  2.12737896e+00]\n",
      " [-5.09399613e+00  6.04937011e-02]\n",
      " [ 9.72139883e-01  3.68573842e+00]\n",
      " [ 6.82922956e+00  6.89565316e+00]\n",
      " [ 6.74615794e+00  6.28656553e+00]\n",
      " [ 1.45390466e+00  6.10193491e+00]\n",
      " [ 2.62623258e-01  2.41884620e+00]\n",
      " [ 1.76101432e+00  6.13906724e+00]\n",
      " [-4.23585307e+00  1.53171933e+00]\n",
      " [-3.07798356e+00  2.09830710e+00]\n",
      " [ 8.37573664e+00  7.49328540e+00]\n",
      " [ 8.14649674e+00  9.18994753e+00]\n",
      " [ 8.71290246e+00  9.51272832e+00]\n",
      " [-4.89793102e+00  9.48017840e-01]\n",
      " [ 2.13993601e+00  4.03104222e+00]\n",
      " [-1.37002685e+00  4.68547231e-01]\n",
      " [ 1.16890375e+00  3.09876118e+00]\n",
      " [-4.17946106e+00  6.41187825e-01]\n",
      " [ 3.37745372e-01  4.58939153e+00]\n",
      " [-4.77040684e+00 -1.33000372e+00]\n",
      " [ 1.64120302e+00  4.00244309e+00]\n",
      " [-3.79805451e-01  5.55461936e+00]\n",
      " [ 6.53445039e+00  5.64406946e+00]\n",
      " [ 8.17813526e+00  4.94189157e+00]\n",
      " [ 3.25997374e-01  4.64937093e+00]\n",
      " [-7.82708843e-03  3.44996325e+00]\n",
      " [-4.70716987e+00 -1.45908253e+00]\n",
      " [ 1.16102127e+00  5.33083874e+00]\n",
      " [-3.14295310e+00  8.48296281e-01]\n",
      " [ 1.57467126e+00  3.68459179e+00]\n",
      " [-4.31126623e+00 -1.40590907e+00]\n",
      " [-2.45248779e+00  9.10604376e-01]\n",
      " [ 3.41230541e-01  4.31357332e+00]\n",
      " [-5.04421371e+00  1.28823603e+00]\n",
      " [-4.04840818e+00 -1.07270909e+00]\n",
      " [-3.41294006e+00  1.58279495e+00]\n",
      " [ 7.24383052e+00  6.86370566e+00]\n",
      " [-4.64175137e+00  2.20728992e+00]\n",
      " [-3.53407542e+00 -3.43821315e-01]\n",
      " [-4.20053294e+00  7.00080891e-01]\n",
      " [-3.31907313e+00 -4.31879919e-01]\n",
      " [-3.11210686e+00  3.83071614e-01]\n",
      " [ 1.24170832e+00  4.44999162e+00]\n",
      " [ 8.76346757e+00  6.06021061e+00]\n",
      " [ 7.98624761e+00  8.16088879e+00]\n",
      " [-3.75593847e+00  6.75383317e-02]\n",
      " [ 6.71984229e+00  6.60383204e+00]\n",
      " [-4.05389740e+00  1.45816862e+00]\n",
      " [ 9.90527186e+00  8.59284963e+00]\n",
      " [ 7.23252458e+00  7.43381789e+00]\n",
      " [ 8.72029670e+00  8.84486991e+00]\n",
      " [ 9.69809097e+00  1.02417204e+01]\n",
      " [ 7.99695374e+00  8.86536463e+00]\n",
      " [ 7.20168160e+00  9.54529259e+00]\n",
      " [ 2.50210641e+00  4.39967272e+00]\n",
      " [ 7.70242027e+00  5.65361766e+00]\n",
      " [-4.82069612e+00 -4.37863108e-01]\n",
      " [ 7.38569849e-01  3.80819747e+00]\n",
      " [ 9.33216570e-01  3.53595578e+00]\n",
      " [ 5.99760036e-01  4.88761411e+00]\n",
      " [ 7.85264031e+00  9.42675214e+00]\n",
      " [-5.41754185e+00  7.57656618e-02]\n",
      " [ 8.09939587e+00  8.37889957e+00]\n",
      " [-3.03464043e+00  1.06322949e-01]\n",
      " [-4.41924270e+00  1.10189178e+00]\n",
      " [ 1.63003514e+00  3.32504418e+00]\n",
      " [-1.23229972e+00  3.89519459e+00]\n",
      " [ 7.81709486e+00  7.65312624e+00]\n",
      " [ 8.97488427e+00  7.89555841e+00]\n",
      " [ 2.50350118e+00  3.04465577e+00]\n",
      " [ 4.24879313e-01  3.64653908e+00]\n",
      " [ 8.14659632e+00  6.13105474e+00]\n",
      " [ 6.86314484e+00  8.26965630e+00]\n",
      " [ 2.47121701e-01  3.93292573e+00]\n",
      " [-3.11648504e+00 -6.55823557e-01]\n",
      " [ 9.36217113e-01  4.72744197e+00]\n",
      " [ 9.35046143e+00  6.52774577e+00]\n",
      " [-1.50579275e+00  1.45333077e-01]\n",
      " [-4.38019548e+00  2.67413973e+00]\n",
      " [ 5.58697264e-01  5.02224046e+00]\n",
      " [ 4.19308410e-01  3.57436207e+00]\n",
      " [ 8.14212501e+00  7.86150161e+00]\n",
      " [ 5.97210216e+00  8.02245551e+00]\n",
      " [-3.58831711e+00  2.28743063e+00]\n",
      " [ 8.14159939e+00  7.87870487e+00]\n",
      " [-4.53094061e+00  4.69377195e-01]\n",
      " [-3.73612426e+00 -5.66156939e-01]\n",
      " [-3.61995355e+00 -7.72691339e-02]\n",
      " [ 1.66102004e+00  4.47601683e+00]\n",
      " [-4.65743008e+00  5.07750808e-02]\n",
      " [ 7.94965586e+00  5.70844417e+00]\n",
      " [ 8.55442307e+00  8.00631917e+00]\n",
      " [-4.75325418e+00  4.82339151e-01]\n",
      " [ 7.28840679e+00  5.89678965e+00]\n",
      " [ 9.91853581e-01  3.27429903e+00]\n",
      " [ 7.52936093e+00  8.82301153e+00]\n",
      " [ 1.06599169e+00  3.75827904e+00]\n",
      " [ 1.83077259e+00  3.64296470e+00]\n",
      " [ 7.62703453e+00  7.46119306e+00]\n",
      " [ 4.41249631e-01  4.05350212e+00]\n",
      " [ 9.15681670e+00  6.41064612e+00]\n",
      " [-2.97906702e-01  5.04757883e+00]\n",
      " [ 8.14662281e+00  9.89233641e+00]\n",
      " [ 8.47551697e+00  7.08823033e+00]\n",
      " [-3.54710961e-01  4.40151964e+00]\n",
      " [-4.44314571e+00 -1.08149453e+00]\n",
      " [-4.69303421e+00  9.37086983e-02]\n",
      " [ 1.86747700e+00  4.64920578e+00]\n",
      " [-1.69088476e-01  3.95730655e+00]\n",
      " [-5.60177653e+00  9.82273176e-01]\n",
      " [ 6.98877990e+00  7.68622971e+00]\n",
      " [ 1.86179146e+00  2.30206692e+00]\n",
      " [-3.88240289e+00 -2.23439207e-01]\n",
      " [ 8.47867953e-01  6.07223326e+00]\n",
      " [-4.34960382e+00  1.93922130e+00]\n",
      " [ 7.65065567e+00  7.91088859e+00]\n",
      " [ 5.18241772e+00  7.49576117e+00]\n",
      " [-4.97781991e+00  2.89297633e-01]\n",
      " [-4.83162264e+00  1.84793506e+00]\n",
      " [ 8.35451948e+00  7.35529895e+00]\n",
      " [ 9.75584004e+00  6.72005899e+00]\n",
      " [ 7.00933173e+00  6.43231211e+00]\n",
      " [ 5.59618713e-02  4.54025169e+00]\n",
      " [ 7.38303970e+00  8.22270631e+00]\n",
      " [-3.79365481e+00 -1.70575077e-01]\n",
      " [ 1.69502965e+00  3.30751928e+00]\n",
      " [ 1.89727609e+00  5.87252952e+00]\n",
      " [ 7.80951520e+00  8.29925172e+00]\n",
      " [-2.46242867e+00 -2.14266263e+00]\n",
      " [-3.09249567e+00  2.40474126e-01]\n",
      " [ 4.99310127e-01  3.97388479e+00]\n",
      " [ 8.11401978e+00  7.69436437e+00]\n",
      " [-5.08839992e+00  3.04967310e-01]\n",
      " [ 9.36220104e+00  8.83418050e+00]\n",
      " [ 8.61451200e-01  5.93258376e+00]\n",
      " [-4.90733870e+00  1.81608718e-01]\n",
      " [-4.32252525e+00  1.21364047e+00]\n",
      " [ 7.93366688e+00  7.29761097e+00]\n",
      " [ 2.12191957e-01  1.74387328e+00]\n",
      " [-4.45650534e+00  6.51561362e-01]\n",
      " [-6.86701390e+00  2.34972899e-01]\n",
      " [-6.07327394e-01  4.80963190e+00]\n",
      " [ 9.21660298e-02  3.13908069e+00]\n",
      " [ 7.24655467e+00  9.32582727e+00]\n",
      " [ 9.47817757e+00  8.43895479e+00]\n",
      " [ 1.49974640e+00  4.83917285e+00]\n",
      " [ 8.09033985e+00  9.11866694e+00]\n",
      " [-3.08725214e+00  8.56244459e-01]\n",
      " [-8.97282312e-03  5.06229490e+00]\n",
      " [ 6.86057221e+00  8.18024935e+00]\n",
      " [ 8.22174257e+00  6.76682531e+00]\n",
      " [-1.46997889e+00  8.44025993e-01]\n",
      " [ 7.15751977e-01  6.32110579e+00]\n",
      " [ 9.12358400e+00  7.04535044e+00]\n",
      " [ 7.00340637e+00  7.88613194e+00]\n",
      " [ 8.79557166e+00  6.43346468e+00]\n",
      " [ 1.42075754e-01  4.19267027e+00]\n",
      " [-5.25249072e+00  5.87422076e-01]\n",
      " [ 9.27928139e+00  7.60627164e+00]]\n"
     ]
    }
   ],
   "source": [
    "print(x)"
   ]
  },
  {
   "cell_type": "code",
   "execution_count": 46,
   "metadata": {},
   "outputs": [
    {
     "ename": "NameError",
     "evalue": "name 'pandas' is not defined",
     "output_type": "error",
     "traceback": [
      "\u001b[1;31m---------------------------------------------------------------------------\u001b[0m",
      "\u001b[1;31mNameError\u001b[0m                                 Traceback (most recent call last)",
      "\u001b[1;32m<ipython-input-46-609b6d5922fb>\u001b[0m in \u001b[0;36m<module>\u001b[1;34m\u001b[0m\n\u001b[1;32m----> 1\u001b[1;33m \u001b[0mpandas\u001b[0m\u001b[1;33m\u001b[0m\u001b[1;33m\u001b[0m\u001b[0m\n\u001b[0m",
      "\u001b[1;31mNameError\u001b[0m: name 'pandas' is not defined"
     ]
    }
   ],
   "source": [
    "pandas"
   ]
  },
  {
   "cell_type": "code",
   "execution_count": null,
   "metadata": {},
   "outputs": [],
   "source": []
  },
  {
   "cell_type": "code",
   "execution_count": null,
   "metadata": {},
   "outputs": [],
   "source": []
  }
 ],
 "metadata": {
  "kernelspec": {
   "display_name": "Python 3",
   "language": "python",
   "name": "python3"
  },
  "language_info": {
   "codemirror_mode": {
    "name": "ipython",
    "version": 3
   },
   "file_extension": ".py",
   "mimetype": "text/x-python",
   "name": "python",
   "nbconvert_exporter": "python",
   "pygments_lexer": "ipython3",
   "version": "3.7.3"
  }
 },
 "nbformat": 4,
 "nbformat_minor": 2
}
